{
 "cells": [
  {
   "cell_type": "code",
   "execution_count": null,
   "metadata": {},
   "outputs": [],
   "source": [
    "!pip install pygame"
   ]
  },
  {
   "cell_type": "code",
   "execution_count": null,
   "metadata": {
    "scrolled": true
   },
   "outputs": [],
   "source": [
    "from models.DeepCNNModel import DeepCNNModel\n",
    "from train_cnn import train_deepcnn_model\n",
    "import fsutils as fs"
   ]
  },
  {
   "cell_type": "code",
   "execution_count": null,
   "metadata": {},
   "outputs": [],
   "source": [
    "# training params\n",
    "FRAME_SKIP = 4\n",
    "UPDATE_FREQ = FRAME_SKIP\n",
    "TARGET_NET_SYNC_FREQ = 1000\n",
    "MAX_EPS = 1000\n",
    "MAX_STEPS_PER_EP = 500\n",
    "\n",
    "# CNN hyperparams\n",
    "TAU = 4\n",
    "GAMMA = 0.95\n",
    "EPS_START = 1.0\n",
    "EPS_END = 0.05\n",
    "EPS_DECAY_WINDOW = 50\n",
    "REPLAY_BUF_CAPACITY = 10000\n",
    "REPLAY_BUF_PREFILL_AMT = 10000\n",
    "LR = 0.001\n",
    "DOWNSAMPLE_SIZE = (112, 112)\n",
    "BATCH_SIZE = 32"
   ]
  },
  {
   "cell_type": "code",
   "execution_count": null,
   "metadata": {},
   "outputs": [],
   "source": [
    "cnn_model = DeepCNNModel(tau=TAU, gamma=GAMMA, eps_start=EPS_START, eps_end=EPS_END,\n",
    "                            eps_decay_window=EPS_DECAY_WINDOW, replay_buf_capacity=REPLAY_BUF_CAPACITY,\n",
    "                            replay_buf_prefill_amt=REPLAY_BUF_PREFILL_AMT, lr=LR,\n",
    "                            downsample_size=DOWNSAMPLE_SIZE, batch_size=BATCH_SIZE)\n",
    "cnn_model_name = 'dqn_cnn_new_infra_100_step'\n",
    "\n",
    "adversary_models = []"
   ]
  },
  {
   "cell_type": "code",
   "execution_count": null,
   "metadata": {},
   "outputs": [],
   "source": [
    "train_deepcnn_model(cnn_model, cnn_model_name, adversary_models, frame_skip=FRAME_SKIP, update_freq=UPDATE_FREQ,\n",
    "                    target_net_sync_freq=TARGET_NET_SYNC_FREQ, max_eps=MAX_EPS, max_steps_per_ep=MAX_STEPS_PER_EP,\n",
    "                    prefill_buffer=True)"
   ]
  },
  {
   "cell_type": "code",
   "execution_count": null,
   "metadata": {},
   "outputs": [],
   "source": [
    "# loaded CNN hyperparams\n",
    "TAU = 4\n",
    "GAMMA = 0.95\n",
    "EPS_START = 0.05\n",
    "EPS_END = 0.05\n",
    "EPS_DECAY_WINDOW = 50\n",
    "REPLAY_BUF_CAPACITY = 10000\n",
    "REPLAY_BUF_PREFILL_AMT = 1000\n",
    "LR = 0.001\n",
    "DOWNSAMPLE_SIZE = (112, 112)\n",
    "BATCH_SIZE = 32\n",
    "\n",
    "loaded_model = DeepCNNModel(tau=TAU, gamma=GAMMA, eps_start=EPS_START, eps_end=EPS_END,\n",
    "                            eps_decay_window=EPS_DECAY_WINDOW, replay_buf_capacity=REPLAY_BUF_CAPACITY,\n",
    "                            replay_buf_prefill_amt=REPLAY_BUF_PREFILL_AMT, lr=LR,\n",
    "                            downsample_size=DOWNSAMPLE_SIZE, batch_size=BATCH_SIZE)\n",
    "loaded_model_name = 'dqn_loaded_next_100_step'\n",
    "loaded_model = fs.load_deep_cnn_from_device(loaded_model, 'dqn_cnn_new_infra_100_step', 'cpu')\n",
    "adversary_models = []"
   ]
  },
  {
   "cell_type": "code",
   "execution_count": null,
   "metadata": {},
   "outputs": [],
   "source": [
    "train_deepcnn_model(loaded_model, loaded_model_name, adversary_models, frame_skip=FRAME_SKIP, update_freq=UPDATE_FREQ,\n",
    "                    target_net_sync_freq=TARGET_NET_SYNC_FREQ, max_eps=MAX_EPS, max_steps_per_ep=MAX_STEPS_PER_EP,\n",
    "                    prefill_buffer=False)"
   ]
  }
 ],
 "metadata": {
  "kernelspec": {
   "display_name": "conda_pytorch_p36",
   "language": "python",
   "name": "conda_pytorch_p36"
  },
  "language_info": {
   "codemirror_mode": {
    "name": "ipython",
    "version": 3
   },
   "file_extension": ".py",
   "mimetype": "text/x-python",
   "name": "python",
   "nbconvert_exporter": "python",
   "pygments_lexer": "ipython3",
   "version": "3.6.5"
  }
 },
 "nbformat": 4,
 "nbformat_minor": 4
}
