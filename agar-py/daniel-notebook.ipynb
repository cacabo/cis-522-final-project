{
 "cells": [
  {
   "cell_type": "code",
   "execution_count": null,
   "metadata": {
    "scrolled": true
   },
   "outputs": [],
   "source": [
    "!pip install pygame"
   ]
  },
  {
   "cell_type": "code",
   "execution_count": 1,
   "metadata": {
    "scrolled": true
   },
   "outputs": [
    {
     "name": "stdout",
     "output_type": "stream",
     "text": [
      "pygame 1.9.6\n",
      "Hello from the pygame community. https://www.pygame.org/contribute.html\n"
     ]
    }
   ],
   "source": [
    "from models.DeepCNNModel import DeepCNNModel\n",
    "from models.RandomModel import RandomModel\n",
    "from models.HeuristicModel import HeuristicModel\n",
    "from train_cnn import train_deepcnn_model\n",
    "import fsutils as fs"
   ]
  },
  {
   "cell_type": "code",
   "execution_count": 2,
   "metadata": {
    "scrolled": true
   },
   "outputs": [],
   "source": [
    "# training params\n",
    "FRAME_SKIP = 4\n",
    "UPDATE_FREQ = FRAME_SKIP\n",
    "TARGET_NET_SYNC_FREQ = 1000\n",
    "MAX_EPS = 250\n",
    "MAX_STEPS_PER_EP = 1000\n",
    "\n",
    "# CNN hyperparams\n",
    "TAU = 4\n",
    "GAMMA = 0.95\n",
    "EPS_START = 0.05\n",
    "EPS_END = 0.05\n",
    "EPS_DECAY_WINDOW = 50\n",
    "REPLAY_BUF_CAPACITY = 10000\n",
    "REPLAY_BUF_PREFILL_AMT = 2000\n",
    "LR = 0.001\n",
    "DOWNSAMPLE_SIZE = (112, 112)\n",
    "BATCH_SIZE = 32\n",
    "\n",
    "NUM_RAND_ADVERSARIES = 3\n",
    "NUM_HEURISTIC_ADVERSARIES = 3"
   ]
  },
  {
   "cell_type": "code",
   "execution_count": 4,
   "metadata": {
    "scrolled": true
   },
   "outputs": [],
   "source": [
    "cnn_model = DeepCNNModel(tau=TAU, gamma=GAMMA, eps_start=EPS_START, eps_end=EPS_END,\n",
    "                            eps_decay_window=EPS_DECAY_WINDOW, replay_buf_capacity=REPLAY_BUF_CAPACITY,\n",
    "                            replay_buf_prefill_amt=REPLAY_BUF_PREFILL_AMT, lr=LR,\n",
    "                            downsample_size=DOWNSAMPLE_SIZE, batch_size=BATCH_SIZE)\n",
    "cnn_model_name = 'dqn_cnn_dan_run_enemies_from_scratch_next_250ep'\n",
    "\n",
    "adversary_models = []\n",
    "for i in range(NUM_RAND_ADVERSARIES):\n",
    "    adversary_models.append(RandomModel(min_steps=5, max_steps=10))\n",
    "for i in range(NUM_HEURISTIC_ADVERSARIES):\n",
    "    adversary_models.append(HeuristicModel())"
   ]
  },
  {
   "cell_type": "code",
   "execution_count": 5,
   "metadata": {},
   "outputs": [],
   "source": [
    "cnn_model = fs.load_deep_cnn_from_device(cnn_model, 'dqn_cnn_dan_run_enemies_from_scratch_250ep', 'cpu')"
   ]
  },
  {
   "cell_type": "code",
   "execution_count": null,
   "metadata": {
    "scrolled": false
   },
   "outputs": [
    {
     "name": "stdout",
     "output_type": "stream",
     "text": [
      "Replay buffer prefill disabled.\n",
      "Beginning training...\n",
      "=== Starting Episode 0 ===\n",
      "Step 0\n",
      "Step 250\n",
      "Step 500\n",
      "Step 750\n",
      "Ep Score: 25.5798 | Mean Score: 25.5798 | Steps Survived: 1000 | Mean Steps Survived: 1000.00\n",
      "Mean Ep Loss: 3.9015 | Ep Reward: 24.4373 | Mean Reward: 25.5798\n",
      "Model has been training for 5.2417 minutes.\n",
      "=== Starting Episode 1 ===\n",
      "Step 1000\n",
      "Step 1250\n",
      "Ep Score: 8.8372 | Mean Score: 17.2085 | Steps Survived: 432 | Mean Steps Survived: 716.00\n",
      "Mean Ep Loss: 7.4175 | Ep Reward: 7.5066 | Mean Reward: 17.2085\n",
      "Model has been training for 7.3950 minutes.\n",
      "=== Starting Episode 2 ===\n",
      "Step 1500\n",
      "Step 1750\n",
      "Step 2000\n",
      "Step 2250\n",
      "Ep Score: 470.8551 | Mean Score: 168.4240 | Steps Survived: 1000 | Mean Steps Survived: 810.67\n",
      "Mean Ep Loss: 0.9159 | Ep Reward: 452.0052 | Mean Reward: 168.4240\n",
      "Model has been training for 12.3257 minutes.\n",
      "=== Starting Episode 3 ===\n",
      "Step 2500\n",
      "Step 2750\n",
      "Step 3000\n",
      "Step 3250\n",
      "Ep Score: 112.9413 | Mean Score: 154.5533 | Steps Survived: 1000 | Mean Steps Survived: 858.00\n",
      "Mean Ep Loss: 6.9082 | Ep Reward: 94.5156 | Mean Reward: 154.5533\n",
      "Model has been training for 17.3530 minutes.\n",
      "=== Starting Episode 4 ===\n",
      "Step 3500\n",
      "Ep Score: 5.9559 | Mean Score: 124.8339 | Steps Survived: 280 | Mean Steps Survived: 742.40\n",
      "Mean Ep Loss: 6.2548 | Ep Reward: 4.4057 | Mean Reward: 124.8339\n",
      "Model has been training for 18.7417 minutes.\n",
      "=== Starting Episode 5 ===\n",
      "Ep Score: 0.0000 | Mean Score: 104.0282 | Steps Survived: 1 | Mean Steps Survived: 618.83\n",
      "Mean Ep Loss: 0.4994 | Ep Reward: 0.0000 | Mean Reward: 104.0282\n",
      "Model has been training for 18.7528 minutes.\n",
      "=== Starting Episode 6 ===\n",
      "Step 3750\n",
      "Ep Score: 4.5913 | Mean Score: 89.8229 | Steps Survived: 57 | Mean Steps Survived: 538.57\n",
      "Mean Ep Loss: 0.6045 | Ep Reward: 4.5835 | Mean Reward: 89.8229\n",
      "Model has been training for 19.0412 minutes.\n",
      "=== Starting Episode 7 ===\n",
      "Ep Score: 1.9608 | Mean Score: 78.8402 | Steps Survived: 13 | Mean Steps Survived: 472.88\n",
      "Mean Ep Loss: 0.5277 | Ep Reward: 1.9206 | Mean Reward: 78.8402\n",
      "Model has been training for 19.1110 minutes.\n",
      "=== Starting Episode 8 ===\n",
      "Ep Score: 0.9725 | Mean Score: 70.1882 | Steps Survived: 10 | Mean Steps Survived: 421.44\n",
      "Mean Ep Loss: 0.4443 | Ep Reward: 0.9501 | Mean Reward: 70.1882\n",
      "Model has been training for 19.1634 minutes.\n",
      "=== Starting Episode 9 ===\n",
      "Ep Score: 13.2832 | Mean Score: 64.4977 | Steps Survived: 171 | Mean Steps Survived: 396.40\n",
      "Mean Ep Loss: 12.4346 | Ep Reward: 13.1125 | Mean Reward: 64.4977\n",
      "Model has been training for 19.9970 minutes.\n",
      "=== Starting Episode 10 ===\n",
      "Step 4000\n",
      "Step 4250\n",
      "Ep Score: 13.6460 | Mean Score: 63.3043 | Steps Survived: 339 | Mean Steps Survived: 330.30\n",
      "Mean Ep Loss: 1.0765 | Ep Reward: 13.5909 | Mean Reward: 63.3043\n",
      "Model has been training for 21.6569 minutes.\n",
      "=== Starting Episode 11 ===\n",
      "Step 4500\n",
      "Step 4750\n",
      "Step 5000\n",
      "Step 5250\n",
      "Ep Score: 15.1496 | Mean Score: 63.9356 | Steps Survived: 1000 | Mean Steps Survived: 387.10\n",
      "Mean Ep Loss: 2.9928 | Ep Reward: 3.3037 | Mean Reward: 63.9356\n",
      "Model has been training for 26.6765 minutes.\n",
      "=== Starting Episode 12 ===\n",
      "Step 5500\n",
      "Step 5750\n",
      "Step 6000\n",
      "Step 6250\n",
      "Ep Score: 0.9250 | Mean Score: 16.9426 | Steps Survived: 1000 | Mean Steps Survived: 387.10\n",
      "Mean Ep Loss: 6.6433 | Ep Reward: -7.8870 | Mean Reward: 16.9426\n",
      "Model has been training for 31.4889 minutes.\n",
      "=== Starting Episode 13 ===\n",
      "Step 6500\n",
      "Step 6750\n",
      "Step 7000\n",
      "Step 7250\n",
      "Ep Score: 141.6795 | Mean Score: 19.8164 | Steps Survived: 1000 | Mean Steps Survived: 387.10\n",
      "Mean Ep Loss: 3.3565 | Ep Reward: 141.4006 | Mean Reward: 19.8164\n",
      "Model has been training for 36.6730 minutes.\n",
      "=== Starting Episode 14 ===\n",
      "Step 7500\n",
      "Step 7750\n",
      "Step 8000\n",
      "Step 8250\n",
      "Ep Score: 35.6701 | Mean Score: 22.7878 | Steps Survived: 1000 | Mean Steps Survived: 459.10\n",
      "Mean Ep Loss: 3.1122 | Ep Reward: 24.9601 | Mean Reward: 22.7878\n",
      "Model has been training for 41.6521 minutes.\n",
      "=== Starting Episode 15 ===\n",
      "Ep Score: 6.4337 | Mean Score: 23.4312 | Steps Survived: 100 | Mean Steps Survived: 469.00\n",
      "Mean Ep Loss: 1.6763 | Ep Reward: 6.3266 | Mean Reward: 23.4312\n",
      "Model has been training for 42.1360 minutes.\n",
      "=== Starting Episode 16 ===\n",
      "Step 8500\n",
      "Step 8750\n",
      "Step 9000\n",
      "Step 9250\n"
     ]
    }
   ],
   "source": [
    "train_deepcnn_model(cnn_model, cnn_model_name, adversary_models, frame_skip=FRAME_SKIP, update_freq=UPDATE_FREQ,\n",
    "                    target_net_sync_freq=TARGET_NET_SYNC_FREQ, max_eps=MAX_EPS, max_steps_per_ep=MAX_STEPS_PER_EP,\n",
    "                    prefill_buffer=False)"
   ]
  },
  {
   "cell_type": "code",
   "execution_count": null,
   "metadata": {},
   "outputs": [],
   "source": []
  }
 ],
 "metadata": {
  "kernelspec": {
   "display_name": "conda_pytorch_p36",
   "language": "python",
   "name": "conda_pytorch_p36"
  },
  "language_info": {
   "codemirror_mode": {
    "name": "ipython",
    "version": 3
   },
   "file_extension": ".py",
   "mimetype": "text/x-python",
   "name": "python",
   "nbconvert_exporter": "python",
   "pygments_lexer": "ipython3",
   "version": "3.6.5"
  }
 },
 "nbformat": 4,
 "nbformat_minor": 4
}
