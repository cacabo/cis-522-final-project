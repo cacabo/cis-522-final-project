{
 "cells": [
  {
   "cell_type": "code",
   "execution_count": 1,
   "metadata": {},
   "outputs": [
    {
     "name": "stdout",
     "output_type": "stream",
     "text": [
      "pygame 1.9.6\n",
      "Hello from the pygame community. https://www.pygame.org/contribute.html\n"
     ]
    }
   ],
   "source": [
    "from gamestate import GameState, start_ai_only_game\n",
    "from models.RandomModel import RandomModel\n",
    "from models.HeuristicModel import HeuristicModel\n",
    "from models.DeepRLModel import DeepRLModel\n",
    "from trainutil import train_models, test_models\n",
    "import fsutils as fs"
   ]
  },
  {
   "cell_type": "code",
   "execution_count": 2,
   "metadata": {},
   "outputs": [
    {
     "data": {
      "text/plain": [
       "True"
      ]
     },
     "execution_count": 2,
     "metadata": {},
     "output_type": "execute_result"
    }
   ],
   "source": [
    "import torch\n",
    "torch.cuda.is_available()"
   ]
  },
  {
   "cell_type": "code",
   "execution_count": 3,
   "metadata": {},
   "outputs": [
    {
     "name": "stdout",
     "output_type": "stream",
     "text": [
      "DQN(\n",
      "  (fc1): Linear(in_features=46, out_features=1024, bias=True)\n",
      "  (fc2): Linear(in_features=1024, out_features=2048, bias=True)\n",
      "  (fc3): Linear(in_features=2048, out_features=8, bias=True)\n",
      "  (relu): ReLU()\n",
      ")\n"
     ]
    }
   ],
   "source": [
    "env = GameState()\n",
    "deep_rl_model = DeepRLModel()\n",
    "# rand_model_1 = RandomModel(min_steps=5, max_steps=10)\n",
    "# rand_model_2 = RandomModel(min_steps=5, max_steps=10)\n",
    "models = [deep_rl_model]\n",
    "\n",
    "print(deep_rl_model.model)"
   ]
  },
  {
   "cell_type": "code",
   "execution_count": 4,
   "metadata": {},
   "outputs": [
    {
     "name": "stdout",
     "output_type": "stream",
     "text": [
      "\n",
      "TRAIN MODE\n",
      "----STEP 0 rewards----\n",
      "Model 0: -0.020000000000010232\n",
      "[26] [VIRUS] Agent0 ate virus 8\n",
      "----STEP 500 rewards----\n",
      "Model 0: 102.00098134707268\n",
      "----STEP 1000 rewards----\n",
      "Model 0: 98.94033423719033\n",
      "----STEP 1500 rewards----\n",
      "Model 0: 90.1857456761278\n",
      "------EPISODE 0 rewards------\n",
      "Model 0: 76.06013574319314\n",
      "----STEP 0 rewards----\n",
      "Model 0: 1.9799999999999898\n",
      "[477] [VIRUS] Agent1 ate virus 13\n",
      "----STEP 500 rewards----\n",
      "Model 0: 98.74711003000509\n",
      "----STEP 1000 rewards----\n",
      "Model 0: 108.33967920618018\n",
      "----STEP 1500 rewards----\n",
      "Model 0: 96.22527800662861\n",
      "------EPISODE 1 rewards------\n",
      "Model 0: 81.8056767969028\n",
      "----STEP 0 rewards----\n",
      "Model 0: 0.9799999999999898\n",
      "----LEARNING BEGINS----\n",
      "----STEP 500 rewards----\n",
      "Model 0: -6.827381247332312\n",
      "----STEP 1000 rewards----\n",
      "Model 0: -14.322205004607724\n",
      "----STEP 1500 rewards----\n",
      "Model 0: -21.42617657247041\n",
      "------EPISODE 2 rewards------\n",
      "Model 0: -29.152771211328627\n",
      "----STEP 0 rewards----\n",
      "Model 0: 1.9799999999999898\n",
      "----STEP 500 rewards----\n",
      "Model 0: -2.0637649382354084\n",
      "----STEP 1000 rewards----\n",
      "Model 0: -11.71769977208021\n",
      "----STEP 1500 rewards----\n",
      "Model 0: -20.90078368897656\n",
      "------EPISODE 3 rewards------\n",
      "Model 0: -28.63766681553082\n",
      "----STEP 0 rewards----\n",
      "Model 0: 2.9799999999999898\n",
      "----STEP 500 rewards----\n",
      "Model 0: 4.731406779396195\n",
      "----STEP 1000 rewards----\n",
      "Model 0: -4.302531329987858\n",
      "----STEP 1500 rewards----\n",
      "Model 0: -12.85772050118203\n",
      "------EPISODE 4 rewards------\n",
      "Model 0: -21.01121242125953\n",
      "----STEP 0 rewards----\n",
      "Model 0: 1.9799999999999898\n",
      "----STEP 500 rewards----\n",
      "Model 0: 0.863689111297532\n",
      "----STEP 1000 rewards----\n",
      "Model 0: -7.948112115116032\n",
      "----STEP 1500 rewards----\n",
      "Model 0: -17.31504995638099\n",
      "------EPISODE 5 rewards------\n",
      "Model 0: -26.207755347271814\n",
      "----STEP 0 rewards----\n",
      "Model 0: 3.9799999999999898\n",
      "----STEP 500 rewards----\n",
      "Model 0: 3.7335918473394543\n",
      "----STEP 1000 rewards----\n",
      "Model 0: 5.4664042059717985\n",
      "----STEP 1500 rewards----\n",
      "Model 0: -4.554799219110862\n",
      "------EPISODE 6 rewards------\n",
      "Model 0: -13.07532375564864\n",
      "----STEP 0 rewards----\n",
      "Model 0: 1.9799999999999898\n",
      "[88] [VIRUS] Agent7 ate virus 46\n",
      "----STEP 500 rewards----\n",
      "Model 0: 127.70218617470789\n",
      "----STEP 1000 rewards----\n",
      "Model 0: 119.11706899339981\n",
      "----STEP 1500 rewards----\n",
      "Model 0: 119.92816544125937\n",
      "------EPISODE 7 rewards------\n",
      "Model 0: 118.92981224569185\n",
      "----STEP 0 rewards----\n",
      "Model 0: 1.9799999999999898\n",
      "----STEP 500 rewards----\n",
      "Model 0: 11.54455542701433\n",
      "----STEP 1000 rewards----\n",
      "Model 0: 4.085917775542015\n",
      "----STEP 1500 rewards----\n",
      "Model 0: -4.886973044560108\n",
      "------EPISODE 8 rewards------\n",
      "Model 0: -0.5565631118100782\n",
      "----STEP 0 rewards----\n",
      "Model 0: -0.020000000000010232\n",
      "----STEP 500 rewards----\n",
      "Model 0: 5.807219958039894\n",
      "----STEP 1000 rewards----\n",
      "Model 0: 1.5882419226333866\n",
      "----STEP 1500 rewards----\n",
      "Model 0: 5.410632274648918\n",
      "------EPISODE 9 rewards------\n",
      "Model 0: -2.6305551996888994\n"
     ]
    }
   ],
   "source": [
    "train_models(env, models, episodes=10, steps=2000, print_every=500)\n",
    "# test_models(env, models, steps=2000)"
   ]
  },
  {
   "cell_type": "code",
   "execution_count": 5,
   "metadata": {},
   "outputs": [],
   "source": [
    "fs.save_net_to_disk(deep_rl_model.model, \"test_drl_8\")"
   ]
  },
  {
   "cell_type": "code",
   "execution_count": null,
   "metadata": {},
   "outputs": [],
   "source": []
  }
 ],
 "metadata": {
  "kernelspec": {
   "display_name": "Python 3",
   "language": "python",
   "name": "python3"
  },
  "language_info": {
   "codemirror_mode": {
    "name": "ipython",
    "version": 3
   },
   "file_extension": ".py",
   "mimetype": "text/x-python",
   "name": "python",
   "nbconvert_exporter": "python",
   "pygments_lexer": "ipython3",
   "version": "3.6.6"
  }
 },
 "nbformat": 4,
 "nbformat_minor": 2
}
