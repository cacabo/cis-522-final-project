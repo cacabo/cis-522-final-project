{
 "cells": [
  {
   "cell_type": "code",
   "execution_count": 1,
   "metadata": {},
   "outputs": [
    {
     "name": "stdout",
     "output_type": "stream",
     "text": [
      "pygame 1.9.6\n",
      "Hello from the pygame community. https://www.pygame.org/contribute.html\n"
     ]
    }
   ],
   "source": [
    "from gamestate import GameState, start_ai_only_game\n",
    "from models.RandomModel import RandomModel\n",
    "from models.HeuristicModel import HeuristicModel\n",
    "from models.DeepRLModel import DeepRLModel\n",
    "from trainutil import train_models, test_models\n",
    "import fsutils as fs"
   ]
  },
  {
   "cell_type": "code",
   "execution_count": 2,
   "metadata": {},
   "outputs": [
    {
     "data": {
      "text/plain": [
       "True"
      ]
     },
     "execution_count": 2,
     "metadata": {},
     "output_type": "execute_result"
    }
   ],
   "source": [
    "import torch\n",
    "torch.cuda.is_available()"
   ]
  },
  {
   "cell_type": "code",
   "execution_count": 3,
   "metadata": {},
   "outputs": [
    {
     "name": "stdout",
     "output_type": "stream",
     "text": [
      "DQN(\n",
      "  (fc1): Linear(in_features=46, out_features=2048, bias=True)\n",
      "  (fc2): Linear(in_features=2048, out_features=4096, bias=True)\n",
      "  (fc3): Linear(in_features=4096, out_features=8, bias=True)\n",
      "  (relu): ReLU()\n",
      ")\n"
     ]
    }
   ],
   "source": [
    "env = GameState()\n",
    "deep_rl_model = DeepRLModel()\n",
    "# rand_model_1 = RandomModel(min_steps=5, max_steps=10)\n",
    "# rand_model_2 = RandomModel(min_steps=5, max_steps=10)\n",
    "models = [deep_rl_model]\n",
    "\n",
    "print(deep_rl_model.model)"
   ]
  },
  {
   "cell_type": "code",
   "execution_count": null,
   "metadata": {},
   "outputs": [
    {
     "name": "stdout",
     "output_type": "stream",
     "text": [
      "\n",
      "TRAIN MODE\n",
      "----STEP 0 rewards----\n",
      "Model 0: 0.9799999999999898\n",
      "[6] [VIRUS] Agent0 ate virus 6\n",
      "----STEP 500 rewards----\n",
      "Model 0: 124.72059036504106\n",
      "----STEP 1000 rewards----\n",
      "Model 0: 111.79278392809496\n",
      "----STEP 1500 rewards----\n",
      "Model 0: 105.4205912258501\n",
      "------EPISODE 0 rewards------\n",
      "Model 0: 102.72357886571028\n",
      "----STEP 0 rewards----\n",
      "Model 0: 0.9799999999999898\n",
      "----STEP 500 rewards----\n",
      "Model 0: 0.7426862255321964\n",
      "----STEP 1000 rewards----\n",
      "Model 0: -9.048127521064117\n",
      "----STEP 1500 rewards----\n",
      "Model 0: -18.36141436183408\n",
      "------EPISODE 1 rewards------\n",
      "Model 0: -27.20318501296083\n",
      "----STEP 0 rewards----\n",
      "Model 0: 0.9799999999999898\n",
      "[9] [VIRUS] Agent2 ate virus 19\n",
      "----LEARNING BEGINS----\n",
      "----STEP 500 rewards----\n",
      "Model 0: 105.3888309562802\n",
      "----STEP 1000 rewards----\n",
      "Model 0: 115.43785823942285\n",
      "----STEP 1500 rewards----\n",
      "Model 0: 120.57873338892519\n",
      "------EPISODE 2 rewards------\n",
      "Model 0: 111.57186824731869\n",
      "----STEP 0 rewards----\n",
      "Model 0: 1.9799999999999898\n",
      "----STEP 500 rewards----\n",
      "Model 0: -4.014620337701444\n",
      "----STEP 1000 rewards----\n",
      "Model 0: -7.765886442863575\n",
      "[1412] [VIRUS] Agent3 ate virus 24\n",
      "----STEP 1500 rewards----\n",
      "Model 0: 97.87785164499354\n",
      "------EPISODE 3 rewards------\n",
      "Model 0: 116.38380406678894\n",
      "----STEP 0 rewards----\n",
      "Model 0: 3.9799999999999898\n",
      "----STEP 500 rewards----\n",
      "Model 0: 2.8275100999749725\n",
      "----STEP 1000 rewards----\n",
      "Model 0: -5.1390701717202205\n",
      "----STEP 1500 rewards----\n",
      "Model 0: 0.8304060075905397\n",
      "------EPISODE 4 rewards------\n",
      "Model 0: -1.1090507217885488\n",
      "----STEP 0 rewards----\n",
      "Model 0: 0.9799999999999898\n",
      "----STEP 500 rewards----\n",
      "Model 0: -1.9846223797218272\n",
      "----STEP 1000 rewards----\n",
      "Model 0: -8.754742184021012\n",
      "----STEP 1500 rewards----\n",
      "Model 0: -12.184022802323796\n",
      "------EPISODE 5 rewards------\n",
      "Model 0: -18.433125287946837\n",
      "----STEP 0 rewards----\n",
      "Model 0: 2.9799999999999898\n",
      "----STEP 500 rewards----\n",
      "Model 0: 1.8615906374187716\n",
      "----STEP 1000 rewards----\n",
      "Model 0: 11.56746604821629\n",
      "[1014] [VIRUS] Agent6 ate virus 39\n",
      "----STEP 1500 rewards----\n",
      "Model 0: 114.48395468428947\n",
      "------EPISODE 6 rewards------\n",
      "Model 0: 107.29060686639264\n",
      "----STEP 0 rewards----\n",
      "Model 0: 1.9799999999999898\n",
      "----STEP 500 rewards----\n",
      "Model 0: -2.0235938314685598\n",
      "----STEP 1000 rewards----\n",
      "Model 0: -2.839321060781458\n",
      "[1308] [VIRUS] Agent7 ate virus 45\n",
      "----STEP 1500 rewards----\n",
      "Model 0: 97.3449280968905\n",
      "------EPISODE 7 rewards------\n",
      "Model 0: 86.83637234344005\n",
      "----STEP 0 rewards----\n",
      "Model 0: -0.020000000000010232\n",
      "----STEP 500 rewards----\n",
      "Model 0: 3.890293360257971\n",
      "----STEP 1000 rewards----\n",
      "Model 0: 6.54665929466853\n",
      "[1391] [VIRUS] Agent8 ate virus 51\n",
      "----STEP 1500 rewards----\n",
      "Model 0: 110.00359495332836\n"
     ]
    }
   ],
   "source": [
    "train_models(env, models, episodes=10, steps=2000, print_every=500)\n",
    "# test_models(env, models, steps=2000)"
   ]
  },
  {
   "cell_type": "code",
   "execution_count": 5,
   "metadata": {},
   "outputs": [],
   "source": [
    "fs.save_net_to_disk(deep_rl_model.model, \"test_drl_12\")"
   ]
  },
  {
   "cell_type": "code",
   "execution_count": null,
   "metadata": {},
   "outputs": [],
   "source": []
  }
 ],
 "metadata": {
  "kernelspec": {
   "display_name": "Python 3",
   "language": "python",
   "name": "python3"
  },
  "language_info": {
   "codemirror_mode": {
    "name": "ipython",
    "version": 3
   },
   "file_extension": ".py",
   "mimetype": "text/x-python",
   "name": "python",
   "nbconvert_exporter": "python",
   "pygments_lexer": "ipython3",
   "version": "3.6.6"
  }
 },
 "nbformat": 4,
 "nbformat_minor": 2
}
