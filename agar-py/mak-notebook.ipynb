{
 "cells": [
  {
   "cell_type": "code",
   "execution_count": 1,
   "metadata": {},
   "outputs": [
    {
     "name": "stdout",
     "output_type": "stream",
     "text": [
      "pygame 1.9.6\n",
      "Hello from the pygame community. https://www.pygame.org/contribute.html\n"
     ]
    }
   ],
   "source": [
    "from gamestate import GameState, start_ai_only_game\n",
    "from models.RandomModel import RandomModel\n",
    "from models.HeuristicModel import HeuristicModel\n",
    "from models.DeepRLModel import DeepRLModel\n",
    "from trainutil import train_models, test_models\n",
    "import fsutils as fs"
   ]
  },
  {
   "cell_type": "code",
   "execution_count": 2,
   "metadata": {},
   "outputs": [
    {
     "data": {
      "text/plain": [
       "True"
      ]
     },
     "execution_count": 2,
     "metadata": {},
     "output_type": "execute_result"
    }
   ],
   "source": [
    "import torch\n",
    "torch.cuda.is_available()"
   ]
  },
  {
   "cell_type": "code",
   "execution_count": 3,
   "metadata": {},
   "outputs": [
    {
     "name": "stdout",
     "output_type": "stream",
     "text": [
      "DQN(\n",
      "  (fc1): Linear(in_features=46, out_features=2048, bias=True)\n",
      "  (fc2): Linear(in_features=2048, out_features=2048, bias=True)\n",
      "  (fc3): Linear(in_features=2048, out_features=8, bias=True)\n",
      "  (relu): ReLU()\n",
      ")\n"
     ]
    }
   ],
   "source": [
    "env = GameState()\n",
    "deep_rl_model = DeepRLModel()\n",
    "# rand_model_1 = RandomModel(min_steps=5, max_steps=10)\n",
    "# rand_model_2 = RandomModel(min_steps=5, max_steps=10)\n",
    "models = [deep_rl_model]\n",
    "\n",
    "print(deep_rl_model.model)"
   ]
  },
  {
   "cell_type": "code",
   "execution_count": null,
   "metadata": {},
   "outputs": [
    {
     "name": "stdout",
     "output_type": "stream",
     "text": [
      "\n",
      "TRAIN MODE\n",
      "----STEP 0 rewards----\n",
      "Model 0: 0.9799999999999898\n",
      "----STEP 500 rewards----\n",
      "Model 0: -4.9629945513446785\n",
      "----STEP 1000 rewards----\n",
      "Model 0: -13.487651877785225\n",
      "----STEP 1500 rewards----\n",
      "Model 0: -17.648136098253815\n",
      "------EPISODE 0 rewards------\n",
      "Model 0: -25.55873411598185\n",
      "----STEP 0 rewards----\n",
      "Model 0: 2.9799999999999898\n",
      "----STEP 500 rewards----\n",
      "Model 0: -4.006096577361745\n",
      "----STEP 1000 rewards----\n",
      "Model 0: -12.609398428881917\n",
      "----STEP 1500 rewards----\n",
      "Model 0: -17.837364573292973\n",
      "------EPISODE 1 rewards------\n",
      "Model 0: -20.83875011675198\n",
      "----STEP 0 rewards----\n",
      "Model 0: -0.020000000000010232\n",
      "----LEARNING BEGINS----\n",
      "----STEP 500 rewards----\n",
      "Model 0: -0.09221567923489715\n",
      "----STEP 1000 rewards----\n",
      "Model 0: -7.880145333820366\n",
      "----STEP 1500 rewards----\n",
      "Model 0: -17.250398115764455\n",
      "------EPISODE 2 rewards------\n",
      "Model 0: -21.292348312054514\n",
      "----STEP 0 rewards----\n",
      "Model 0: 0.9799999999999898\n",
      "----STEP 500 rewards----\n",
      "Model 0: -5.856584124665858\n",
      "----STEP 1000 rewards----\n",
      "Model 0: 1.2936060722909133\n",
      "----STEP 1500 rewards----\n",
      "Model 0: -2.679404100729869\n",
      "------EPISODE 3 rewards------\n",
      "Model 0: -4.472568424632385\n",
      "----STEP 0 rewards----\n",
      "Model 0: 2.9799999999999898\n",
      "----STEP 500 rewards----\n",
      "Model 0: -5.9295877348885995\n",
      "----STEP 1000 rewards----\n",
      "Model 0: -12.447087059647743\n",
      "----STEP 1500 rewards----\n",
      "Model 0: -21.594596604117612\n",
      "------EPISODE 4 rewards------\n",
      "Model 0: -30.278982987143763\n",
      "----STEP 0 rewards----\n",
      "Model 0: 2.9799999999999898\n",
      "----STEP 500 rewards----\n",
      "Model 0: 8.61456242284737\n",
      "----STEP 1000 rewards----\n",
      "Model 0: -1.5601859772765465\n",
      "----STEP 1500 rewards----\n",
      "Model 0: -3.5192484563964115\n",
      "[1671] [VIRUS] Agent5 ate virus 33\n",
      "------EPISODE 5 rewards------\n",
      "Model 0: 128.77832677071527\n",
      "----STEP 0 rewards----\n",
      "Model 0: 2.9799999999999898\n",
      "[270] [VIRUS] Agent6 ate virus 39\n",
      "----STEP 500 rewards----\n",
      "Model 0: 121.18988972753917\n",
      "----STEP 1000 rewards----\n",
      "Model 0: 117.37584655678633\n",
      "----STEP 1500 rewards----\n",
      "Model 0: 163.04626623756928\n",
      "------EPISODE 6 rewards------\n",
      "Model 0: 152.1514232210925\n",
      "[0] [VIRUS] Agent7 ate virus 42\n",
      "----STEP 0 rewards----\n",
      "Model 0: 99.97999999999999\n",
      "----STEP 500 rewards----\n",
      "Model 0: 113.3315112075715\n",
      "----STEP 1000 rewards----\n",
      "Model 0: 98.04940790978924\n",
      "----STEP 1500 rewards----\n",
      "Model 0: 87.4401560958141\n",
      "------EPISODE 7 rewards------\n",
      "Model 0: 73.44819548241149\n",
      "----STEP 0 rewards----\n",
      "Model 0: -0.020000000000010232\n",
      "----STEP 500 rewards----\n",
      "Model 0: -3.0676157650428877\n",
      "[965] [VIRUS] Agent8 ate virus 48\n",
      "----STEP 1000 rewards----\n",
      "Model 0: 120.14567691110415\n",
      "----STEP 1500 rewards----\n",
      "Model 0: 165.21215759121134\n",
      "------EPISODE 8 rewards------\n",
      "Model 0: 147.43442537049611\n",
      "----STEP 0 rewards----\n",
      "Model 0: 2.9799999999999898\n",
      "[179] [VIRUS] Agent9 ate virus 54\n",
      "----STEP 500 rewards----\n",
      "Model 0: 140.74619315644836\n",
      "----STEP 1000 rewards----\n",
      "Model 0: 129.85619906153744\n",
      "----STEP 1500 rewards----\n",
      "Model 0: 114.60608860463554\n"
     ]
    }
   ],
   "source": [
    "train_models(env, models, episodes=10, steps=2000, print_every=500)\n",
    "# test_models(env, models, steps=2000)"
   ]
  },
  {
   "cell_type": "code",
   "execution_count": 5,
   "metadata": {},
   "outputs": [],
   "source": [
    "fs.save_net_to_disk(deep_rl_model.model, \"test_drl_10\")"
   ]
  },
  {
   "cell_type": "code",
   "execution_count": null,
   "metadata": {},
   "outputs": [],
   "source": []
  }
 ],
 "metadata": {
  "kernelspec": {
   "display_name": "Python 3",
   "language": "python",
   "name": "python3"
  },
  "language_info": {
   "codemirror_mode": {
    "name": "ipython",
    "version": 3
   },
   "file_extension": ".py",
   "mimetype": "text/x-python",
   "name": "python",
   "nbconvert_exporter": "python",
   "pygments_lexer": "ipython3",
   "version": "3.6.6"
  }
 },
 "nbformat": 4,
 "nbformat_minor": 2
}
