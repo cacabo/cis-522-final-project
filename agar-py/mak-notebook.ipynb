{
 "cells": [
  {
   "cell_type": "code",
   "execution_count": 1,
   "metadata": {},
   "outputs": [
    {
     "name": "stdout",
     "output_type": "stream",
     "text": [
      "pygame 1.9.6\n",
      "Hello from the pygame community. https://www.pygame.org/contribute.html\n"
     ]
    }
   ],
   "source": [
    "from gamestate import GameState, start_ai_only_game\n",
    "from models.RandomModel import RandomModel\n",
    "from models.HeuristicModel import HeuristicModel\n",
    "from models.DeepRLModel import DeepRLModel\n",
    "from trainutil import train_models, test_models\n",
    "import fsutils as fs"
   ]
  },
  {
   "cell_type": "code",
   "execution_count": 2,
   "metadata": {},
   "outputs": [
    {
     "data": {
      "text/plain": [
       "True"
      ]
     },
     "execution_count": 2,
     "metadata": {},
     "output_type": "execute_result"
    }
   ],
   "source": [
    "import torch\n",
    "torch.cuda.is_available()"
   ]
  },
  {
   "cell_type": "code",
   "execution_count": 3,
   "metadata": {},
   "outputs": [
    {
     "name": "stdout",
     "output_type": "stream",
     "text": [
      "DQN(\n",
      "  (fc1): Linear(in_features=46, out_features=2048, bias=True)\n",
      "  (fc2): Linear(in_features=2048, out_features=2048, bias=True)\n",
      "  (fc3): Linear(in_features=2048, out_features=8, bias=True)\n",
      "  (relu): ReLU()\n",
      ")\n"
     ]
    }
   ],
   "source": [
    "env = GameState()\n",
    "deep_rl_model = DeepRLModel()\n",
    "# rand_model_1 = RandomModel(min_steps=5, max_steps=10)\n",
    "# rand_model_2 = RandomModel(min_steps=5, max_steps=10)\n",
    "models = [deep_rl_model]\n",
    "\n",
    "print(deep_rl_model.model)"
   ]
  },
  {
   "cell_type": "code",
   "execution_count": 4,
   "metadata": {},
   "outputs": [
    {
     "name": "stdout",
     "output_type": "stream",
     "text": [
      "\n",
      "TRAIN MODE\n",
      "----STEP 0 rewards----\n",
      "Model 0: -0.020000000000010232\n",
      "------EPISODE 0 rewards------\n",
      "Model 0: -26.73260564587639\n",
      "----STEP 0 rewards----\n",
      "Model 0: 0.9799999999999898\n",
      "------EPISODE 1 rewards------\n",
      "Model 0: -29.18725110440718\n",
      "----STEP 0 rewards----\n",
      "Model 0: -0.020000000000010232\n",
      "----LEARNING BEGINS----\n",
      "------EPISODE 2 rewards------\n",
      "Model 0: -27.350133105604414\n",
      "----STEP 0 rewards----\n",
      "Model 0: 1.9799999999999898\n",
      "------EPISODE 3 rewards------\n",
      "Model 0: -28.771647429189755\n",
      "----STEP 0 rewards----\n",
      "Model 0: 0.9799999999999898\n",
      "------EPISODE 4 rewards------\n",
      "Model 0: -24.470808874150237\n",
      "----STEP 0 rewards----\n",
      "Model 0: 1.9799999999999898\n",
      "[258] [VIRUS] Agent5 ate virus 33\n",
      "------EPISODE 5 rewards------\n",
      "Model 0: 145.11371879021863\n",
      "----STEP 0 rewards----\n",
      "Model 0: 1.9799999999999898\n",
      "[304] [VIRUS] Agent6 ate virus 39\n",
      "------EPISODE 6 rewards------\n",
      "Model 0: 102.7853527699425\n",
      "----STEP 0 rewards----\n",
      "Model 0: -0.020000000000010232\n",
      "[1355] [VIRUS] Agent7 ate virus 46\n",
      "------EPISODE 7 rewards------\n",
      "Model 0: 93.75042667426061\n",
      "----STEP 0 rewards----\n",
      "Model 0: 0.9799999999999898\n",
      "------EPISODE 8 rewards------\n",
      "Model 0: -18.984056270664865\n",
      "----STEP 0 rewards----\n",
      "Model 0: 1.9799999999999898\n",
      "[282] [VIRUS] Agent9 ate virus 57\n",
      "------EPISODE 9 rewards------\n",
      "Model 0: 110.7229213486566\n",
      "----STEP 0 rewards----\n",
      "Model 0: 1.9799999999999898\n",
      "------EPISODE 10 rewards------\n",
      "Model 0: 13.177423314563384\n",
      "----STEP 0 rewards----\n",
      "Model 0: 0.9799999999999898\n",
      "------EPISODE 11 rewards------\n",
      "Model 0: -16.624402305253284\n",
      "----STEP 0 rewards----\n",
      "Model 0: 1.9799999999999898\n",
      "[1575] [VIRUS] Agent12 ate virus 71\n",
      "------EPISODE 12 rewards------\n",
      "Model 0: 88.13684310438626\n",
      "----STEP 0 rewards----\n",
      "Model 0: 0.9799999999999898\n",
      "------EPISODE 13 rewards------\n",
      "Model 0: -3.875234235157677\n",
      "----STEP 0 rewards----\n",
      "Model 0: 1.9799999999999898\n",
      "[126] [VIRUS] Agent14 ate virus 80\n",
      "------EPISODE 14 rewards------\n",
      "Model 0: 131.1259677686476\n",
      "----STEP 0 rewards----\n",
      "Model 0: 0.9799999999999898\n",
      "------EPISODE 15 rewards------\n",
      "Model 0: -10.43348772994068\n",
      "----STEP 0 rewards----\n",
      "Model 0: 3.9799999999999898\n",
      "------EPISODE 16 rewards------\n",
      "Model 0: -21.73981395126549\n",
      "----STEP 0 rewards----\n",
      "Model 0: 0.9799999999999898\n",
      "[76] [VIRUS] Agent17 ate virus 97\n",
      "------EPISODE 17 rewards------\n",
      "Model 0: 189.54298910304811\n",
      "----STEP 0 rewards----\n",
      "Model 0: 1.9799999999999898\n",
      "------EPISODE 18 rewards------\n",
      "Model 0: -14.058065910869686\n",
      "----STEP 0 rewards----\n",
      "Model 0: 1.9799999999999898\n",
      "------EPISODE 19 rewards------\n",
      "Model 0: 26.13857707003575\n"
     ]
    }
   ],
   "source": [
    "train_models(env, models, episodes=20, steps=2000, print_every=2000)\n",
    "# test_models(env, models, steps=2000)"
   ]
  },
  {
   "cell_type": "code",
   "execution_count": 5,
   "metadata": {},
   "outputs": [],
   "source": [
    "fs.save_net_to_disk(deep_rl_model.model, \"test_drl_10_ep20\")"
   ]
  },
  {
   "cell_type": "code",
   "execution_count": null,
   "metadata": {},
   "outputs": [],
   "source": []
  }
 ],
 "metadata": {
  "kernelspec": {
   "display_name": "Python 3",
   "language": "python",
   "name": "python3"
  },
  "language_info": {
   "codemirror_mode": {
    "name": "ipython",
    "version": 3
   },
   "file_extension": ".py",
   "mimetype": "text/x-python",
   "name": "python",
   "nbconvert_exporter": "python",
   "pygments_lexer": "ipython3",
   "version": "3.6.6"
  }
 },
 "nbformat": 4,
 "nbformat_minor": 2
}
