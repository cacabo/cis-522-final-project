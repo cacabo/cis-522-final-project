{
 "cells": [
  {
   "cell_type": "code",
   "execution_count": 1,
   "metadata": {},
   "outputs": [
    {
     "name": "stdout",
     "output_type": "stream",
     "text": [
      "pygame 1.9.6\n",
      "Hello from the pygame community. https://www.pygame.org/contribute.html\n"
     ]
    }
   ],
   "source": [
    "from gamestate import GameState, start_ai_only_game\n",
    "from models.RandomModel import RandomModel\n",
    "from models.HeuristicModel import HeuristicModel\n",
    "from models.DeepRLModel import DeepRLModel\n",
    "from trainutil import train_models, test_models\n",
    "import fsutils as fs"
   ]
  },
  {
   "cell_type": "code",
   "execution_count": 2,
   "metadata": {},
   "outputs": [
    {
     "data": {
      "text/plain": [
       "True"
      ]
     },
     "execution_count": 2,
     "metadata": {},
     "output_type": "execute_result"
    }
   ],
   "source": [
    "import torch\n",
    "torch.cuda.is_available()"
   ]
  },
  {
   "cell_type": "code",
   "execution_count": 3,
   "metadata": {},
   "outputs": [
    {
     "name": "stdout",
     "output_type": "stream",
     "text": [
      "DQN(\n",
      "  (fc1): Linear(in_features=46, out_features=2048, bias=True)\n",
      "  (fc2): Linear(in_features=2048, out_features=2048, bias=True)\n",
      "  (fc3): Linear(in_features=2048, out_features=8, bias=True)\n",
      "  (relu): ReLU()\n",
      ")\n"
     ]
    }
   ],
   "source": [
    "env = GameState()\n",
    "deep_rl_model = DeepRLModel()\n",
    "# rand_model_1 = RandomModel(min_steps=5, max_steps=10)\n",
    "# rand_model_2 = RandomModel(min_steps=5, max_steps=10)\n",
    "models = [deep_rl_model]\n",
    "\n",
    "print(deep_rl_model.model)"
   ]
  },
  {
   "cell_type": "code",
   "execution_count": 4,
   "metadata": {},
   "outputs": [
    {
     "name": "stdout",
     "output_type": "stream",
     "text": [
      "\n",
      "TRAIN MODE\n",
      "----STEP 0 rewards----\n",
      "Model 0: -0.020000000000010232\n",
      "------EPISODE 0 rewards------\n",
      "Model 0: -20.535551903640766\n",
      "----STEP 0 rewards----\n",
      "Model 0: 0.9799999999999898\n",
      "------EPISODE 1 rewards------\n",
      "Model 0: -28.040186312574633\n",
      "----STEP 0 rewards----\n",
      "Model 0: 0.9799999999999898\n",
      "----LEARNING BEGINS----\n",
      "------EPISODE 2 rewards------\n",
      "Model 0: -20.256779838322103\n",
      "----STEP 0 rewards----\n",
      "Model 0: -0.020000000000010232\n",
      "[1703] [VIRUS] Agent3 ate virus 22\n",
      "------EPISODE 3 rewards------\n",
      "Model 0: 84.11238964678986\n",
      "----STEP 0 rewards----\n",
      "Model 0: 1.9799999999999898\n",
      "------EPISODE 4 rewards------\n",
      "Model 0: -16.77428144842611\n",
      "----STEP 0 rewards----\n",
      "Model 0: 0.9799999999999898\n",
      "[263] [VIRUS] Agent5 ate virus 31\n",
      "------EPISODE 5 rewards------\n",
      "Model 0: 100.96995777196057\n",
      "----STEP 0 rewards----\n",
      "Model 0: 1.9799999999999898\n",
      "[1485] [VIRUS] Agent6 ate virus 38\n",
      "------EPISODE 6 rewards------\n",
      "Model 0: 134.8004529754162\n",
      "----STEP 0 rewards----\n",
      "Model 0: 2.9799999999999898\n",
      "[327] [VIRUS] Agent7 ate virus 43\n",
      "------EPISODE 7 rewards------\n",
      "Model 0: 136.11269408109897\n",
      "----STEP 0 rewards----\n",
      "Model 0: 0.9799999999999898\n",
      "------EPISODE 8 rewards------\n",
      "Model 0: 0.2641623984038688\n",
      "----STEP 0 rewards----\n",
      "Model 0: 4.97999999999999\n",
      "[650] [VIRUS] Agent9 ate virus 58\n",
      "------EPISODE 9 rewards------\n",
      "Model 0: 133.02673923036505\n",
      "----STEP 0 rewards----\n",
      "Model 0: -0.020000000000010232\n",
      "[1513] [VIRUS] Agent10 ate virus 61\n",
      "------EPISODE 10 rewards------\n",
      "Model 0: 132.8492838674711\n",
      "----STEP 0 rewards----\n",
      "Model 0: 2.9799999999999898\n",
      "------EPISODE 11 rewards------\n",
      "Model 0: 3.7295815990299843\n",
      "----STEP 0 rewards----\n",
      "Model 0: -0.020000000000010232\n",
      "[1062] [VIRUS] Agent12 ate virus 71\n",
      "------EPISODE 12 rewards------\n",
      "Model 0: 76.48661984907383\n",
      "----STEP 0 rewards----\n",
      "Model 0: 0.9799999999999898\n",
      "------EPISODE 13 rewards------\n",
      "Model 0: -14.92639368314937\n",
      "----STEP 0 rewards----\n",
      "Model 0: 3.9799999999999898\n",
      "------EPISODE 14 rewards------\n",
      "Model 0: -22.98290661585102\n",
      "----STEP 0 rewards----\n",
      "Model 0: 2.9799999999999898\n",
      "[422] [VIRUS] Agent15 ate virus 89\n",
      "------EPISODE 15 rewards------\n",
      "Model 0: 127.63744191379305\n",
      "----STEP 0 rewards----\n",
      "Model 0: 0.9799999999999898\n",
      "[1034] [VIRUS] Agent16 ate virus 95\n",
      "------EPISODE 16 rewards------\n",
      "Model 0: 124.69502971080625\n",
      "----STEP 0 rewards----\n",
      "Model 0: 0.9799999999999898\n",
      "[91] [VIRUS] Agent17 ate virus 99\n",
      "------EPISODE 17 rewards------\n",
      "Model 0: 121.04376306069814\n",
      "----STEP 0 rewards----\n",
      "Model 0: 0.9799999999999898\n",
      "[544] [VIRUS] Agent18 ate virus 109\n",
      "------EPISODE 18 rewards------\n",
      "Model 0: 125.75418667551936\n",
      "----STEP 0 rewards----\n",
      "Model 0: -0.020000000000010232\n",
      "[53] [VIRUS] Agent19 ate virus 113\n",
      "------EPISODE 19 rewards------\n",
      "Model 0: 110.30515693060589\n"
     ]
    }
   ],
   "source": [
    "train_models(env, models, episodes=20, steps=2000, print_every=2000)\n",
    "# test_models(env, models, steps=2000)"
   ]
  },
  {
   "cell_type": "code",
   "execution_count": 5,
   "metadata": {},
   "outputs": [],
   "source": [
    "fs.save_net_to_disk(deep_rl_model.model, \"test_drl_10_step3000\")"
   ]
  },
  {
   "cell_type": "code",
   "execution_count": null,
   "metadata": {},
   "outputs": [],
   "source": []
  }
 ],
 "metadata": {
  "kernelspec": {
   "display_name": "Python 3",
   "language": "python",
   "name": "python3"
  },
  "language_info": {
   "codemirror_mode": {
    "name": "ipython",
    "version": 3
   },
   "file_extension": ".py",
   "mimetype": "text/x-python",
   "name": "python",
   "nbconvert_exporter": "python",
   "pygments_lexer": "ipython3",
   "version": "3.6.6"
  }
 },
 "nbformat": 4,
 "nbformat_minor": 2
}
