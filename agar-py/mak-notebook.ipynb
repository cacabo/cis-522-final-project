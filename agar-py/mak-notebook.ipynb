{
 "cells": [
  {
   "cell_type": "code",
   "execution_count": 1,
   "metadata": {},
   "outputs": [
    {
     "name": "stdout",
     "output_type": "stream",
     "text": [
      "pygame 1.9.6\n",
      "Hello from the pygame community. https://www.pygame.org/contribute.html\n"
     ]
    }
   ],
   "source": [
    "from gamestate import GameState, start_ai_only_game\n",
    "from models.RandomModel import RandomModel\n",
    "from models.HeuristicModel import HeuristicModel\n",
    "from models.DeepRLModel import DeepRLModel\n",
    "from trainutil import train_models, test_models\n",
    "import fsutils as fs"
   ]
  },
  {
   "cell_type": "code",
   "execution_count": 2,
   "metadata": {},
   "outputs": [
    {
     "data": {
      "text/plain": [
       "True"
      ]
     },
     "execution_count": 2,
     "metadata": {},
     "output_type": "execute_result"
    }
   ],
   "source": [
    "import torch\n",
    "torch.cuda.is_available()"
   ]
  },
  {
   "cell_type": "code",
   "execution_count": 3,
   "metadata": {},
   "outputs": [
    {
     "name": "stdout",
     "output_type": "stream",
     "text": [
      "DQN(\n",
      "  (fc1): Linear(in_features=46, out_features=2048, bias=True)\n",
      "  (fc2): Linear(in_features=2048, out_features=2048, bias=True)\n",
      "  (fc3): Linear(in_features=2048, out_features=8, bias=True)\n",
      "  (relu): ReLU()\n",
      ")\n"
     ]
    }
   ],
   "source": [
    "env = GameState()\n",
    "deep_rl_model = DeepRLModel()\n",
    "# rand_model_1 = RandomModel(min_steps=5, max_steps=10)\n",
    "# rand_model_2 = RandomModel(min_steps=5, max_steps=10)\n",
    "models = [deep_rl_model]\n",
    "\n",
    "print(deep_rl_model.model)"
   ]
  },
  {
   "cell_type": "code",
   "execution_count": null,
   "metadata": {},
   "outputs": [
    {
     "name": "stdout",
     "output_type": "stream",
     "text": [
      "\n",
      "TRAIN MODE\n",
      "----STEP 0 rewards----\n",
      "Model 0: -0.020000000000010232\n",
      "----STEP 1000 rewards----\n",
      "Model 0: -10.88725993451817\n",
      "----STEP 2000 rewards----\n",
      "Model 0: -28.88457219776268\n",
      "------EPISODE 0 rewards------\n",
      "Model 0: -45.15364769396069\n",
      "----STEP 0 rewards----\n",
      "Model 0: 1.9799999999999898\n",
      "----STEP 1000 rewards----\n",
      "Model 0: -13.609004468588608\n",
      "----LEARNING BEGINS----\n",
      "----STEP 2000 rewards----\n",
      "Model 0: -31.347296180053462\n",
      "------EPISODE 1 rewards------\n",
      "Model 0: -41.526101543849194\n",
      "----STEP 0 rewards----\n",
      "Model 0: 1.9799999999999898\n",
      "----STEP 1000 rewards----\n",
      "Model 0: -12.447617923715228\n",
      "[1480] [VIRUS] Agent2 ate virus 17\n",
      "----STEP 2000 rewards----\n",
      "Model 0: 101.1703566398164\n",
      "------EPISODE 2 rewards------\n",
      "Model 0: 87.12769348639534\n",
      "----STEP 0 rewards----\n",
      "Model 0: 1.9799999999999898\n",
      "----STEP 1000 rewards----\n",
      "Model 0: -13.543049206327652\n",
      "----STEP 2000 rewards----\n",
      "Model 0: -21.549342002466176\n",
      "------EPISODE 3 rewards------\n",
      "Model 0: -32.89131214053941\n",
      "----STEP 0 rewards----\n",
      "Model 0: 0.9799999999999898\n",
      "[62] [VIRUS] Agent4 ate virus 26\n",
      "----STEP 1000 rewards----\n",
      "Model 0: 158.43293187974496\n",
      "----STEP 2000 rewards----\n",
      "Model 0: 138.57006731857726\n",
      "------EPISODE 4 rewards------\n",
      "Model 0: 119.39258463246617\n",
      "----STEP 0 rewards----\n",
      "Model 0: 1.9799999999999898\n",
      "----STEP 1000 rewards----\n",
      "Model 0: -8.100092023199835\n",
      "----STEP 2000 rewards----\n",
      "Model 0: -17.599033853292184\n",
      "------EPISODE 5 rewards------\n",
      "Model 0: -25.702148715044814\n",
      "----STEP 0 rewards----\n",
      "Model 0: 1.9799999999999898\n",
      "[85] [VIRUS] Agent6 ate virus 38\n",
      "----STEP 1000 rewards----\n",
      "Model 0: 142.26228061126608\n",
      "----STEP 2000 rewards----\n",
      "Model 0: 131.5388910116988\n",
      "------EPISODE 6 rewards------\n",
      "Model 0: 110.62467377886321\n",
      "----STEP 0 rewards----\n",
      "Model 0: 2.9799999999999898\n",
      "[83] [VIRUS] Agent7 ate virus 46\n",
      "----STEP 1000 rewards----\n",
      "Model 0: 158.3412108570522\n",
      "----STEP 2000 rewards----\n",
      "Model 0: 126.32940091060092\n",
      "------EPISODE 7 rewards------\n",
      "Model 0: 114.2189715865326\n",
      "----STEP 0 rewards----\n",
      "Model 0: 1.9799999999999898\n",
      "[473] [VIRUS] Agent8 ate virus 52\n",
      "----STEP 1000 rewards----\n",
      "Model 0: 134.76593399718192\n",
      "----STEP 2000 rewards----\n",
      "Model 0: 118.45170406671181\n"
     ]
    }
   ],
   "source": [
    "train_models(env, models, episodes=10, steps=3000, print_every=1000)\n",
    "# test_models(env, models, steps=2000)"
   ]
  },
  {
   "cell_type": "code",
   "execution_count": null,
   "metadata": {},
   "outputs": [],
   "source": [
    "fs.save_net_to_disk(deep_rl_model.model, \"test_drl_10_step3000\")"
   ]
  },
  {
   "cell_type": "code",
   "execution_count": null,
   "metadata": {},
   "outputs": [],
   "source": []
  }
 ],
 "metadata": {
  "kernelspec": {
   "display_name": "Python 3",
   "language": "python",
   "name": "python3"
  },
  "language_info": {
   "codemirror_mode": {
    "name": "ipython",
    "version": 3
   },
   "file_extension": ".py",
   "mimetype": "text/x-python",
   "name": "python",
   "nbconvert_exporter": "python",
   "pygments_lexer": "ipython3",
   "version": "3.6.6"
  }
 },
 "nbformat": 4,
 "nbformat_minor": 2
}
