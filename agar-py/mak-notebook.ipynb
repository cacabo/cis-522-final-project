{
 "cells": [
  {
   "cell_type": "code",
   "execution_count": 1,
   "metadata": {},
   "outputs": [
    {
     "name": "stdout",
     "output_type": "stream",
     "text": [
      "Collecting pygame\n",
      "\u001b[?25l  Downloading https://files.pythonhosted.org/packages/8e/24/ede6428359f913ed9cd1643dd5533aefeb5a2699cc95bea089de50ead586/pygame-1.9.6-cp36-cp36m-manylinux1_x86_64.whl (11.4MB)\n",
      "\u001b[K    100% |████████████████████████████████| 11.4MB 4.1MB/s eta 0:00:01\n",
      "\u001b[31mfastai 1.0.60 requires nvidia-ml-py3, which is not installed.\u001b[0m\n",
      "\u001b[?25hInstalling collected packages: pygame\n",
      "Successfully installed pygame-1.9.6\n",
      "\u001b[33mYou are using pip version 10.0.1, however version 20.1 is available.\n",
      "You should consider upgrading via the 'pip install --upgrade pip' command.\u001b[0m\n"
     ]
    }
   ],
   "source": [
    "!pip install pygame"
   ]
  },
  {
   "cell_type": "code",
   "execution_count": 1,
   "metadata": {},
   "outputs": [
    {
     "name": "stdout",
     "output_type": "stream",
     "text": [
      "pygame 1.9.6\n",
      "Hello from the pygame community. https://www.pygame.org/contribute.html\n"
     ]
    }
   ],
   "source": [
    "from gamestate import GameState, start_ai_only_game\n",
    "from models.RandomModel import RandomModel\n",
    "from models.HeuristicModel import HeuristicModel\n",
    "from models.DeepRLModel import DeepRLModel, DQN, STATE_ENCODING_LENGTH\n",
    "from trainutil import train_models, test_models, get_epsilon_decay_factor\n",
    "import fsutils as fs"
   ]
  },
  {
   "cell_type": "code",
   "execution_count": 2,
   "metadata": {},
   "outputs": [
    {
     "data": {
      "text/plain": [
       "True"
      ]
     },
     "execution_count": 2,
     "metadata": {},
     "output_type": "execute_result"
    }
   ],
   "source": [
    "import torch\n",
    "torch.cuda.is_available()"
   ]
  },
  {
   "cell_type": "code",
   "execution_count": 9,
   "metadata": {},
   "outputs": [
    {
     "name": "stdout",
     "output_type": "stream",
     "text": [
      "decay_window calc: 143\n",
      "Learning starts at episode: 7\n",
      "Decay rate:  0.9841333470999254\n"
     ]
    }
   ],
   "source": [
    "episodes = 150\n",
    "steps = 1000 \n",
    "\n",
    "gamma = 0.99\n",
    "\n",
    "buffer_capacity = 15000\n",
    "buffer_learn_thresh = 0.5\n",
    "batch_size = 128\n",
    "\n",
    "target_update = 10\n",
    "\n",
    "start_epsilon = 0.99\n",
    "min_epsilon = 0.2\n",
    "decay_window = 100\n",
    "decay = get_epsilon_decay_factor(start_epsilon, min_epsilon, decay_window)\n",
    "\n",
    "\n",
    "calc_decay_window = episodes - int(buffer_learn_thresh * buffer_capacity / steps)\n",
    "print(\"decay_window calc:\", calc_decay_window)\n",
    "print(\"Learning starts at episode:\", int(buffer_learn_thresh * buffer_capacity / steps))\n",
    "print(\"Decay rate: \", decay)"
   ]
  },
  {
   "cell_type": "code",
   "execution_count": 8,
   "metadata": {},
   "outputs": [
    {
     "data": {
      "text/plain": [
       "DQN(\n",
       "  (fc1): Linear(in_features=9, out_features=32, bias=True)\n",
       "  (fc2): Linear(in_features=32, out_features=32, bias=True)\n",
       "  (fc3): Linear(in_features=32, out_features=32, bias=True)\n",
       "  (fc4): Linear(in_features=32, out_features=8, bias=True)\n",
       "  (relu): ReLU()\n",
       ")"
      ]
     },
     "execution_count": 8,
     "metadata": {},
     "output_type": "execute_result"
    }
   ],
   "source": [
    "net = DQN(STATE_ENCODING_LENGTH, 8)\n",
    "fs.load_net_from_device(net, \"drl_fc32\", \"cpu\")"
   ]
  },
  {
   "cell_type": "code",
   "execution_count": 10,
   "metadata": {},
   "outputs": [
    {
     "name": "stdout",
     "output_type": "stream",
     "text": [
      "DQN(\n",
      "  (fc1): Linear(in_features=9, out_features=32, bias=True)\n",
      "  (fc2): Linear(in_features=32, out_features=32, bias=True)\n",
      "  (fc3): Linear(in_features=32, out_features=32, bias=True)\n",
      "  (fc4): Linear(in_features=32, out_features=8, bias=True)\n",
      "  (relu): ReLU()\n",
      ")\n"
     ]
    }
   ],
   "source": [
    "env = GameState()\n",
    "deep_rl_model = DeepRLModel(\n",
    "                    epsilon = start_epsilon,\n",
    "                    min_epsilon = min_epsilon,\n",
    "                    epsilon_decay = decay,\n",
    "                    gamma = gamma,\n",
    "                    buffer_capacity = buffer_capacity,\n",
    "                    replay_buffer_learn_thresh = buffer_learn_thresh,\n",
    "                    batch_size = batch_size,\n",
    "                    lr = 1e-3,\n",
    "                    model = None)\n",
    "\n",
    "# rand_model_1 = RandomModel(min_steps=5, max_steps=10)\n",
    "# rand_model_2 = RandomModel(min_steps=5, max_steps=10)\n",
    "models = [deep_rl_model]\n",
    "\n",
    "print(deep_rl_model.model)"
   ]
  },
  {
   "cell_type": "code",
   "execution_count": null,
   "metadata": {},
   "outputs": [
    {
     "name": "stdout",
     "output_type": "stream",
     "text": [
      "\n",
      "TRAIN MODE\n",
      "=== Starting Episode 0 ===\n"
     ]
    },
    {
     "name": "stderr",
     "output_type": "stream",
     "text": [
      "/home/ec2-user/anaconda3/envs/pytorch_p36/lib/python3.6/site-packages/numpy/core/fromnumeric.py:2920: RuntimeWarning: Mean of empty slice.\n",
      "  out=out, **kwargs)\n",
      "/home/ec2-user/anaconda3/envs/pytorch_p36/lib/python3.6/site-packages/numpy/core/_methods.py:85: RuntimeWarning: invalid value encountered in double_scalars\n",
      "  ret = ret.dtype.type(ret / rcount)\n"
     ]
    },
    {
     "name": "stdout",
     "output_type": "stream",
     "text": [
      "Mean Episode Loss: nan | Episode Reward: -6.9396 | Mean Reward: -6.9396\n",
      "=== Starting Episode 1 ===\n",
      "Mean Episode Loss: nan | Episode Reward: 0.4925 | Mean Reward: -3.2235\n",
      "=== Starting Episode 2 ===\n",
      "Mean Episode Loss: nan | Episode Reward: 4.3817 | Mean Reward: -0.6885\n",
      "=== Starting Episode 3 ===\n",
      "Mean Episode Loss: nan | Episode Reward: 3.4538 | Mean Reward: 0.3471\n",
      "=== Starting Episode 4 ===\n",
      "Mean Episode Loss: nan | Episode Reward: -6.0141 | Mean Reward: -0.9251\n",
      "=== Starting Episode 5 ===\n",
      "Mean Episode Loss: nan | Episode Reward: -11.3456 | Mean Reward: -2.6619\n",
      "=== Starting Episode 6 ===\n",
      "Mean Episode Loss: nan | Episode Reward: -2.7720 | Mean Reward: -2.6776\n",
      "=== Starting Episode 7 ===\n",
      "----LEARNING BEGINS----\n",
      "Mean Episode Loss: 0.0572 | Episode Reward: -6.8859 | Mean Reward: -3.2037\n",
      "=== Starting Episode 8 ===\n",
      "Mean Episode Loss: 0.0098 | Episode Reward: -8.3747 | Mean Reward: -3.7782\n",
      "=== Starting Episode 9 ===\n",
      "Mean Episode Loss: 0.0090 | Episode Reward: 5.2993 | Mean Reward: -2.8705\n",
      "=== Starting Episode 10 ===\n"
     ]
    }
   ],
   "source": [
    "model_name = \"drl_fc32_7\"\n",
    "train_models(env, models, episodes=episodes, steps=steps, target_update=target_update, print_every=1000, model_name=model_name)\n",
    "# test_models(env, models, steps=2000)"
   ]
  },
  {
   "cell_type": "code",
   "execution_count": null,
   "metadata": {},
   "outputs": [],
   "source": [
    "fs.save_net_to_disk(deep_rl_model.model, model_name)"
   ]
  },
  {
   "cell_type": "code",
   "execution_count": null,
   "metadata": {},
   "outputs": [],
   "source": []
  }
 ],
 "metadata": {
  "kernelspec": {
   "display_name": "conda_pytorch_p36",
   "language": "python",
   "name": "conda_pytorch_p36"
  },
  "language_info": {
   "codemirror_mode": {
    "name": "ipython",
    "version": 3
   },
   "file_extension": ".py",
   "mimetype": "text/x-python",
   "name": "python",
   "nbconvert_exporter": "python",
   "pygments_lexer": "ipython3",
   "version": "3.6.5"
  }
 },
 "nbformat": 4,
 "nbformat_minor": 2
}
