{
 "cells": [
  {
   "cell_type": "code",
   "execution_count": 1,
   "metadata": {},
   "outputs": [
    {
     "name": "stdout",
     "output_type": "stream",
     "text": [
      "pygame 1.9.6\n",
      "Hello from the pygame community. https://www.pygame.org/contribute.html\n"
     ]
    }
   ],
   "source": [
    "from gamestate import GameState, start_ai_only_game\n",
    "from models.RandomModel import RandomModel\n",
    "from models.HeuristicModel import HeuristicModel\n",
    "from models.DeepRLModel import DeepRLModel\n",
    "from trainutil import train_models, test_models\n",
    "import fsutils as fs"
   ]
  },
  {
   "cell_type": "code",
   "execution_count": 2,
   "metadata": {},
   "outputs": [
    {
     "data": {
      "text/plain": [
       "True"
      ]
     },
     "execution_count": 2,
     "metadata": {},
     "output_type": "execute_result"
    }
   ],
   "source": [
    "import torch\n",
    "torch.cuda.is_available()"
   ]
  },
  {
   "cell_type": "code",
   "execution_count": 3,
   "metadata": {},
   "outputs": [
    {
     "name": "stdout",
     "output_type": "stream",
     "text": [
      "DQN(\n",
      "  (fc1): Linear(in_features=46, out_features=2048, bias=True)\n",
      "  (fc2): Linear(in_features=2048, out_features=2048, bias=True)\n",
      "  (fc3): Linear(in_features=2048, out_features=8, bias=True)\n",
      "  (relu): ReLU()\n",
      ")\n"
     ]
    }
   ],
   "source": [
    "env = GameState()\n",
    "deep_rl_model = DeepRLModel()\n",
    "# rand_model_1 = RandomModel(min_steps=5, max_steps=10)\n",
    "# rand_model_2 = RandomModel(min_steps=5, max_steps=10)\n",
    "models = [deep_rl_model]\n",
    "\n",
    "print(deep_rl_model.model)"
   ]
  },
  {
   "cell_type": "code",
   "execution_count": 4,
   "metadata": {},
   "outputs": [
    {
     "name": "stdout",
     "output_type": "stream",
     "text": [
      "\n",
      "TRAIN MODE\n",
      "----STEP 0 rewards----\n",
      "Model 0: 2.9799999999999898\n",
      "----STEP 500 rewards----\n",
      "Model 0: -6.919934147794493\n",
      "----STEP 1000 rewards----\n",
      "Model 0: -16.337019265483946\n",
      "----STEP 1500 rewards----\n",
      "Model 0: -25.294805326471874\n",
      "------EPISODE 0 rewards------\n",
      "Model 0: -33.79907360975926\n",
      "----STEP 0 rewards----\n",
      "Model 0: 2.9799999999999898\n",
      "[15] [VIRUS] Agent1 ate virus 13\n",
      "----STEP 500 rewards----\n",
      "Model 0: 112.42770921354654\n",
      "----STEP 1000 rewards----\n",
      "Model 0: 109.38389093735503\n",
      "----STEP 1500 rewards----\n",
      "Model 0: 106.48852866910575\n",
      "------EPISODE 1 rewards------\n",
      "Model 0: 103.73975376659584\n",
      "----STEP 0 rewards----\n",
      "Model 0: 0.9799999999999898\n",
      "----LEARNING BEGINS----\n",
      "----STEP 500 rewards----\n",
      "Model 0: -0.1944619011401585\n",
      "----STEP 1000 rewards----\n",
      "Model 0: -8.944356902794055\n",
      "----STEP 1500 rewards----\n",
      "Model 0: -17.293521685975577\n",
      "------EPISODE 2 rewards------\n",
      "Model 0: -22.299298443293083\n",
      "----STEP 0 rewards----\n",
      "Model 0: 0.9799999999999898\n",
      "----STEP 500 rewards----\n",
      "Model 0: -4.993815392428161\n",
      "----STEP 1000 rewards----\n",
      "Model 0: -10.602819391679844\n",
      "----STEP 1500 rewards----\n",
      "Model 0: -15.921123314454576\n",
      "------EPISODE 3 rewards------\n",
      "Model 0: -21.93465562847038\n",
      "----STEP 0 rewards----\n",
      "Model 0: 3.9799999999999898\n",
      "----STEP 500 rewards----\n",
      "Model 0: 7.707292191620638\n",
      "----STEP 1000 rewards----\n",
      "Model 0: -1.467975157438019\n",
      "----STEP 1500 rewards----\n",
      "Model 0: -6.3637151848273845\n",
      "------EPISODE 4 rewards------\n",
      "Model 0: -12.803361190662145\n",
      "----STEP 0 rewards----\n",
      "Model 0: 0.9799999999999898\n",
      "----STEP 500 rewards----\n",
      "Model 0: -1.037652604260444\n",
      "----STEP 1000 rewards----\n",
      "Model 0: -0.09527968179514801\n",
      "----STEP 1500 rewards----\n",
      "Model 0: -5.964520401396555\n",
      "------EPISODE 5 rewards------\n",
      "Model 0: -15.409744844015165\n",
      "----STEP 0 rewards----\n",
      "Model 0: -0.020000000000010232\n",
      "----STEP 500 rewards----\n",
      "Model 0: -2.1052195387489974\n",
      "[967] [VIRUS] Agent6 ate virus 39\n",
      "----STEP 1000 rewards----\n",
      "Model 0: 94.86358616474864\n",
      "----STEP 1500 rewards----\n",
      "Model 0: 100.75309521185035\n",
      "------EPISODE 6 rewards------\n",
      "Model 0: 86.11308972437638\n",
      "[0] [VIRUS] Agent7 ate virus 42\n",
      "----STEP 0 rewards----\n",
      "Model 0: 101.97999999999999\n",
      "----STEP 500 rewards----\n",
      "Model 0: 111.13108244566624\n",
      "----STEP 1000 rewards----\n",
      "Model 0: 103.15066553859413\n",
      "----STEP 1500 rewards----\n",
      "Model 0: 100.38286178447055\n",
      "------EPISODE 7 rewards------\n",
      "Model 0: 100.01648862089925\n",
      "----STEP 0 rewards----\n",
      "Model 0: 1.9799999999999898\n",
      "----STEP 500 rewards----\n",
      "Model 0: 6.495169733132002\n",
      "----STEP 1000 rewards----\n",
      "Model 0: -3.5762096254041467\n",
      "----STEP 1500 rewards----\n",
      "Model 0: -13.15637806450485\n",
      "------EPISODE 8 rewards------\n",
      "Model 0: -22.25151854346933\n",
      "----STEP 0 rewards----\n",
      "Model 0: 1.9799999999999898\n",
      "----STEP 500 rewards----\n",
      "Model 0: 1.8191922757546592\n",
      "----STEP 1000 rewards----\n",
      "Model 0: -5.143753987308088\n",
      "----STEP 1500 rewards----\n",
      "Model 0: -14.647468657778461\n",
      "------EPISODE 9 rewards------\n",
      "Model 0: -23.67002609498752\n"
     ]
    }
   ],
   "source": [
    "train_models(env, models, episodes=10, steps=2000, print_every=500)\n",
    "# test_models(env, models, steps=2000)"
   ]
  },
  {
   "cell_type": "code",
   "execution_count": 5,
   "metadata": {},
   "outputs": [],
   "source": [
    "fs.save_net_to_disk(deep_rl_model.model, \"test_drl_10_a\")"
   ]
  },
  {
   "cell_type": "code",
   "execution_count": null,
   "metadata": {},
   "outputs": [],
   "source": []
  }
 ],
 "metadata": {
  "kernelspec": {
   "display_name": "Python 3",
   "language": "python",
   "name": "python3"
  },
  "language_info": {
   "codemirror_mode": {
    "name": "ipython",
    "version": 3
   },
   "file_extension": ".py",
   "mimetype": "text/x-python",
   "name": "python",
   "nbconvert_exporter": "python",
   "pygments_lexer": "ipython3",
   "version": "3.6.6"
  }
 },
 "nbformat": 4,
 "nbformat_minor": 2
}
