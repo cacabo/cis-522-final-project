{
 "cells": [
  {
   "cell_type": "code",
   "execution_count": 1,
   "metadata": {},
   "outputs": [
    {
     "name": "stdout",
     "output_type": "stream",
     "text": [
      "pygame 1.9.6\n",
      "Hello from the pygame community. https://www.pygame.org/contribute.html\n"
     ]
    }
   ],
   "source": [
    "from gamestate import GameState, start_ai_only_game\n",
    "from models.RandomModel import RandomModel\n",
    "from models.HeuristicModel import HeuristicModel\n",
    "from models.DeepRLModel import DeepRLModel\n",
    "from trainutil import train_models, test_models\n",
    "import fsutils as fs"
   ]
  },
  {
   "cell_type": "code",
   "execution_count": 2,
   "metadata": {},
   "outputs": [
    {
     "data": {
      "text/plain": [
       "True"
      ]
     },
     "execution_count": 2,
     "metadata": {},
     "output_type": "execute_result"
    }
   ],
   "source": [
    "import torch\n",
    "torch.cuda.is_available()"
   ]
  },
  {
   "cell_type": "code",
   "execution_count": 3,
   "metadata": {},
   "outputs": [
    {
     "name": "stdout",
     "output_type": "stream",
     "text": [
      "DQN(\n",
      "  (fc1): Linear(in_features=46, out_features=4096, bias=True)\n",
      "  (fc2): Linear(in_features=4096, out_features=4096, bias=True)\n",
      "  (fc3): Linear(in_features=4096, out_features=8, bias=True)\n",
      "  (relu): ReLU()\n",
      ")\n"
     ]
    }
   ],
   "source": [
    "env = GameState()\n",
    "deep_rl_model = DeepRLModel()\n",
    "# rand_model_1 = RandomModel(min_steps=5, max_steps=10)\n",
    "# rand_model_2 = RandomModel(min_steps=5, max_steps=10)\n",
    "models = [deep_rl_model]\n",
    "\n",
    "print(deep_rl_model.model)"
   ]
  },
  {
   "cell_type": "code",
   "execution_count": 4,
   "metadata": {},
   "outputs": [
    {
     "name": "stdout",
     "output_type": "stream",
     "text": [
      "\n",
      "TRAIN MODE\n",
      "----STEP 0 rewards----\n",
      "Model 0: 2.9799999999999898\n",
      "----STEP 500 rewards----\n",
      "Model 0: -4.056816560536163\n",
      "----STEP 1000 rewards----\n",
      "Model 0: -6.852380311352675\n",
      "----STEP 1500 rewards----\n",
      "Model 0: -14.32956684974684\n",
      "------EPISODE 0 rewards------\n",
      "Model 0: -23.367599054424716\n",
      "----STEP 0 rewards----\n",
      "Model 0: 0.9799999999999898\n",
      "----STEP 500 rewards----\n",
      "Model 0: -4.89277152994768\n",
      "----STEP 1000 rewards----\n",
      "Model 0: -13.449284067307957\n",
      "----STEP 1500 rewards----\n",
      "Model 0: -20.61902221594852\n",
      "------EPISODE 1 rewards------\n",
      "Model 0: -28.384617515516965\n",
      "----STEP 0 rewards----\n",
      "Model 0: 0.9799999999999898\n",
      "----LEARNING BEGINS----\n",
      "----STEP 500 rewards----\n",
      "Model 0: -6.909520472772385\n",
      "----STEP 1000 rewards----\n",
      "Model 0: -12.493925030583597\n",
      "----STEP 1500 rewards----\n",
      "Model 0: -20.640249599029204\n",
      "------EPISODE 2 rewards------\n",
      "Model 0: -20.583394867194727\n",
      "----STEP 0 rewards----\n",
      "Model 0: 1.9799999999999898\n",
      "----STEP 500 rewards----\n",
      "Model 0: 1.8325856596887604\n",
      "----STEP 1000 rewards----\n",
      "Model 0: -7.044429115599826\n",
      "----STEP 1500 rewards----\n",
      "Model 0: -13.541242134103243\n",
      "[1929] [VIRUS] Agent3 ate virus 24\n",
      "------EPISODE 3 rewards------\n",
      "Model 0: 87.57836488916388\n",
      "----STEP 0 rewards----\n",
      "Model 0: 1.9799999999999898\n",
      "----STEP 500 rewards----\n",
      "Model 0: 0.91485504886586\n",
      "----STEP 1000 rewards----\n",
      "Model 0: 0.8431730444449954\n",
      "----STEP 1500 rewards----\n",
      "Model 0: -3.1948741065466777\n",
      "------EPISODE 4 rewards------\n",
      "Model 0: -5.944566544121926\n",
      "----STEP 0 rewards----\n",
      "Model 0: 0.9799999999999898\n",
      "----STEP 500 rewards----\n",
      "Model 0: -1.001981460870951\n",
      "[909] [VIRUS] Agent5 ate virus 31\n",
      "----STEP 1000 rewards----\n",
      "Model 0: 108.01148656984205\n",
      "----STEP 1500 rewards----\n",
      "Model 0: 104.22472892493772\n",
      "------EPISODE 5 rewards------\n",
      "Model 0: 122.28262728088785\n",
      "----STEP 0 rewards----\n",
      "Model 0: 0.9799999999999898\n",
      "----STEP 500 rewards----\n",
      "Model 0: -0.9955417898443386\n",
      "----STEP 1000 rewards----\n",
      "Model 0: 5.843447872245349\n",
      "----STEP 1500 rewards----\n",
      "Model 0: 3.531763032096535\n",
      "------EPISODE 6 rewards------\n",
      "Model 0: -6.375719800511376\n",
      "----STEP 0 rewards----\n",
      "Model 0: 0.9799999999999898\n",
      "----STEP 500 rewards----\n",
      "Model 0: -7.851264579893069\n",
      "----STEP 1000 rewards----\n",
      "Model 0: -8.30207503050255\n",
      "----STEP 1500 rewards----\n",
      "Model 0: -14.767196471608457\n",
      "------EPISODE 7 rewards------\n",
      "Model 0: -23.783925819665853\n",
      "----STEP 0 rewards----\n",
      "Model 0: 1.9799999999999898\n",
      "[254] [VIRUS] Agent8 ate virus 49\n",
      "----STEP 500 rewards----\n",
      "Model 0: 103.41120725927163\n",
      "----STEP 1000 rewards----\n",
      "Model 0: 95.39682808694029\n",
      "----STEP 1500 rewards----\n",
      "Model 0: 85.87994814107512\n",
      "------EPISODE 8 rewards------\n",
      "Model 0: 71.96393505201291\n",
      "----STEP 0 rewards----\n",
      "Model 0: 0.9799999999999898\n",
      "[70] [VIRUS] Agent9 ate virus 54\n",
      "----STEP 500 rewards----\n",
      "Model 0: 138.24360091436293\n",
      "----STEP 1000 rewards----\n",
      "Model 0: 136.45331828632573\n",
      "----STEP 1500 rewards----\n",
      "Model 0: 134.54756029414938\n",
      "------EPISODE 9 rewards------\n",
      "Model 0: 129.3285764314092\n"
     ]
    }
   ],
   "source": [
    "train_models(env, models, episodes=10, steps=2000, print_every=500)\n",
    "# test_models(env, models, steps=2000)"
   ]
  },
  {
   "cell_type": "code",
   "execution_count": 5,
   "metadata": {},
   "outputs": [],
   "source": [
    "fs.save_net_to_disk(deep_rl_model.model, \"test_drl_11\")"
   ]
  },
  {
   "cell_type": "code",
   "execution_count": null,
   "metadata": {},
   "outputs": [],
   "source": []
  }
 ],
 "metadata": {
  "kernelspec": {
   "display_name": "Python 3",
   "language": "python",
   "name": "python3"
  },
  "language_info": {
   "codemirror_mode": {
    "name": "ipython",
    "version": 3
   },
   "file_extension": ".py",
   "mimetype": "text/x-python",
   "name": "python",
   "nbconvert_exporter": "python",
   "pygments_lexer": "ipython3",
   "version": "3.6.6"
  }
 },
 "nbformat": 4,
 "nbformat_minor": 2
}
